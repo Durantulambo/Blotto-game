{
 "cells": [
  {
   "cell_type": "code",
   "execution_count": 1,
   "metadata": {},
   "outputs": [],
   "source": [
    "import pandas as pd\n",
    "import numpy as numpy\n",
    "import matplotlib.pyplot as plt"
   ]
  },
  {
   "cell_type": "code",
   "execution_count": 2,
   "metadata": {},
   "outputs": [],
   "source": [
    "# find out the score difference\n",
    "def payoff(mine, opp):\n",
    "    mine_score = 0\n",
    "    opp_score = 0\n",
    "    for i in range (1, 11):\n",
    "        if (mine[i - 1] > opp [i - 1]):\n",
    "            mine_score += i\n",
    "        elif (opp[i - 1] > mine [i - 1]):\n",
    "            opp_score += i\n",
    "    return (mine_score - opp_score)"
   ]
  },
  {
   "cell_type": "code",
   "execution_count": 3,
   "metadata": {},
   "outputs": [
    {
     "data": {
      "text/plain": [
       "0"
      ]
     },
     "execution_count": 3,
     "metadata": {},
     "output_type": "execute_result"
    }
   ],
   "source": [
    "# test for basic strategy\n",
    "mine_strategy = [10, 10, 10, 10, 10, 10, 10, 10, 10, 10]\n",
    "opponent_strategy = [10, 10, 10, 10, 10, 10, 10, 10, 10, 10]\n",
    "payoff(mine_strategy, opponent_strategy)"
   ]
  },
  {
   "cell_type": "code",
   "execution_count": 4,
   "metadata": {},
   "outputs": [
    {
     "data": {
      "text/plain": [
       "array([13, 13,  4, 16, 12,  4, 11,  8, 10,  9])"
      ]
     },
     "execution_count": 4,
     "metadata": {},
     "output_type": "execute_result"
    }
   ],
   "source": [
    "# test for randomized strategy\n",
    "total_sum = 100\n",
    "n = 10\n",
    "opponent = numpy.random.multinomial(total_sum, numpy.ones(n)/n)\n",
    "opponent"
   ]
  },
  {
   "cell_type": "code",
   "execution_count": 5,
   "metadata": {},
   "outputs": [],
   "source": [
    "def average(source_arr):\n",
    "    total = 0\n",
    "    for i in range (len(source_arr)):\n",
    "        total += source_arr[i]\n",
    "    return total / len(source_arr)"
   ]
  },
  {
   "cell_type": "code",
   "execution_count": 27,
   "metadata": {},
   "outputs": [
    {
     "name": "stdout",
     "output_type": "stream",
     "text": [
      "[0, 0, 0, 0, 0, 0, 0, 0, 0, 0]\n",
      "[0, 0, 0, 0, 0, 0, 0, 0, 0, 0]\n",
      "[0, 0, 0, 0, 0, 0, 0, 0, 0, 0]\n",
      "[0, 0, 0, 0, 0, 0, 0, 0, 0, 0]\n",
      "[0, 0, 0, 0, 15, 0, 0, 0, 0, 0]\n",
      "[0, 0, 0, 0, 15, 16, 0, 0, 0, 0]\n",
      "[0, 0, 0, 0, 15, 16, 16, 0, 0, 0]\n",
      "[0, 0, 0, 0, 15, 16, 16, 16, 0, 0]\n",
      "[0, 0, 0, 0, 15, 16, 16, 16, 18, 0]\n",
      "[0, 0, 0, 0, 15, 16, 16, 16, 18, 19]\n"
     ]
    }
   ],
   "source": [
    "# DRAFT STRATEGY, forward fit\n",
    "# find best amount of soldiers allocated to each castle\n",
    "expected_performance = []\n",
    "# define dimensions of expected performance and initialize to 0\n",
    "for i in range(10):\n",
    "    expected_performance.append([])\n",
    "    for j in range(31):\n",
    "        expected_performance[i].append(0)\n",
    "        \n",
    "best_performance_arr = []\n",
    "for i in range(10):\n",
    "    best_performance_arr.append(0)\n",
    "    \n",
    "for i in range(10):\n",
    "    # loop through each possibility of soldier allocation\n",
    "    sim_arr = []\n",
    "    \n",
    "    # special case for last item\n",
    "    if(i == 9):\n",
    "        best_performance_arr[i] = 100\n",
    "        for j in range(9):\n",
    "            best_performance_arr[i] -= best_performance_arr[j]\n",
    "        print(best_performance_arr)\n",
    "        break\n",
    "    \n",
    "    # set the cap (tentative) of one castle to 30 soldiers\n",
    "    for j in range(0, 31):\n",
    "        # make an empty array for simulations\n",
    "        rand_payoff = []\n",
    "        for b in range(10000):\n",
    "            rand_payoff.append(0)\n",
    "            \n",
    "        total_sum = 100 - j\n",
    "        for c in range (i):\n",
    "            total_sum -= best_performance_arr[c]\n",
    "            \n",
    "        if(total_sum < 0):\n",
    "            break\n",
    "            \n",
    "        rand_items = 10 - i - 1\n",
    "        \n",
    "        # simulate the sim array against random strategies 10000 times each\n",
    "        for k in range(10000):\n",
    "            # initialize the sim array\n",
    "            for x in range(10):\n",
    "                sim_arr.append(0)\n",
    "            \n",
    "            temp_arr = []\n",
    "            # generate other random item(s)\n",
    "            temp_arr = numpy.random.multinomial(total_sum, numpy.ones(rand_items)/rand_items)\n",
    "            \n",
    "            # append the random items to sim array\n",
    "            count = 0\n",
    "            for a in range(10):\n",
    "                if(a < i):\n",
    "                    sim_arr[a] = best_performance_arr[a]\n",
    "                elif(a == i):\n",
    "                    sim_arr[a] = j\n",
    "                else:\n",
    "                    sim_arr[a] = temp_arr[count]\n",
    "                    count+=1\n",
    "                \n",
    "            rand_payoff[k] = payoff(sim_arr, numpy.random.multinomial(100, numpy.ones(10)/10))\n",
    "            #clear the sim array for next use\n",
    "            sim_arr = []\n",
    "            \n",
    "        # record the average performance of each run into the array\n",
    "        expected_performance[i][j] = average(rand_payoff)\n",
    "     \n",
    "    # write the best performing option chosen into array\n",
    "    best_performance_arr[i] = expected_performance[i].index(max(expected_performance[i])) \n",
    "    print(best_performance_arr)"
   ]
  },
  {
   "cell_type": "code",
   "execution_count": 30,
   "metadata": {},
   "outputs": [
    {
     "name": "stdout",
     "output_type": "stream",
     "text": [
      "39.802\n"
     ]
    }
   ],
   "source": [
    "# testing trained strategy\n",
    "performance = []\n",
    "strategy = best_performance_arr\n",
    "# test carol strategy against randomized strategy\n",
    "for i in range(1, 1001):\n",
    "    performance.append(payoff(strategy, numpy.random.multinomial(total_sum, numpy.ones(n)/n)))\n",
    "\n",
    "print(average(performance))"
   ]
  },
  {
   "cell_type": "code",
   "execution_count": null,
   "metadata": {},
   "outputs": [],
   "source": []
  },
  {
   "cell_type": "code",
   "execution_count": null,
   "metadata": {},
   "outputs": [],
   "source": []
  }
 ],
 "metadata": {
  "kernelspec": {
   "display_name": "Python 3",
   "language": "python",
   "name": "python3"
  },
  "language_info": {
   "codemirror_mode": {
    "name": "ipython",
    "version": 3
   },
   "file_extension": ".py",
   "mimetype": "text/x-python",
   "name": "python",
   "nbconvert_exporter": "python",
   "pygments_lexer": "ipython3",
   "version": "3.7.4"
  }
 },
 "nbformat": 4,
 "nbformat_minor": 2
}
